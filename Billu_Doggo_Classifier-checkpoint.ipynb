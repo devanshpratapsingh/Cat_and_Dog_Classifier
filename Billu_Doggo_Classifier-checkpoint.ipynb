{
 "cells": [
  {
   "cell_type": "code",
   "execution_count": 22,
   "metadata": {},
   "outputs": [],
   "source": [
    "import tensorflow as tf\n",
    "import cv2                 \n",
    "import numpy as np         \n",
    "import os                  \n",
    "from random import shuffle \n",
    "from tqdm import tqdm\n",
    "\n",
    "TEST_DIR = 'E:/MIC_Projects/Cat_Dog_Classifier/test1'\n",
    "TRAIN_DIR = 'E:/MIC_Projects/Cat_Dog_Classifier/train'\n",
    "LEARNING_RATE = 1e-3\n",
    "IMAGE_SIZE = 50\n",
    "\n",
    "MODEL_NAME = \"dogsvscats-{}-{}.model\".format(LEARNING_RATE,\"6conv-fire\")\n"
   ]
  },
  {
   "cell_type": "code",
   "execution_count": 23,
   "metadata": {},
   "outputs": [],
   "source": [
    "def label_img(img):\n",
    "    img_name = img.split(\".\")[-3]\n",
    "    if img_name == \"cat\":\n",
    "        return [1,0]\n",
    "    elif img_name == \"dog\":\n",
    "        return [0,1]\n"
   ]
  },
  {
   "cell_type": "code",
   "execution_count": 24,
   "metadata": {},
   "outputs": [],
   "source": [
    "def create_train_data():\n",
    "    training_data = []\n",
    "    for img in tqdm(os.listdir(path=TRAIN_DIR)):\n",
    "        img_lable = label_image(img)\n",
    "        path = os.path.join(TRAIN_DIR,img)\n",
    "        img = cv2.resize(cv2.imread(path,cv2.IMREAD_GRAYSCALE),(IMAGE_SIZE,IMAGE_SIZE))\n",
    "        training_data.append([np.array(img),np.array(img_lable)])\n",
    "        \n",
    "    shuffle(training_data)\n",
    "    np.save('train_data.npy',training_data)\n",
    "    return training_data"
   ]
  },
  {
   "cell_type": "code",
   "execution_count": 25,
   "metadata": {},
   "outputs": [],
   "source": [
    "def process_test_data():\n",
    "    testing_data = []\n",
    "    for img in tqdm(os.listdir(TEST_DIR)):\n",
    "        img_labels = img.split(\".\")[0]\n",
    "        path = os.path.join(TEST_DIR,img)\n",
    "        img = cv2.resize(cv2.imread(path,cv2.IMREAD_GRAYSCALE),(IMAGE_SIZE,IMAGE_SIZE))\n",
    "        testing_data.append([np.array(img),img_num])\n",
    "        \n",
    "    np.save(\"testing_data.npy\",testing_data)\n",
    "    return testing_data"
   ]
  },
  {
   "cell_type": "code",
   "execution_count": null,
   "metadata": {},
   "outputs": [],
   "source": []
  },
  {
   "cell_type": "code",
   "execution_count": 26,
   "metadata": {},
   "outputs": [
    {
     "name": "stderr",
     "output_type": "stream",
     "text": [
      "100%|████████████████████████████████████████████████████████████████████████████| 25000/25000 [06:48<00:00, 61.17it/s]\n",
      "C:\\Users\\lenovo\\anaconda3\\lib\\site-packages\\numpy\\core\\_asarray.py:136: VisibleDeprecationWarning: Creating an ndarray from ragged nested sequences (which is a list-or-tuple of lists-or-tuples-or ndarrays with different lengths or shapes) is deprecated. If you meant to do this, you must specify 'dtype=object' when creating the ndarray\n",
      "  return array(a, dtype, copy=False, order=order, subok=True)\n"
     ]
    }
   ],
   "source": [
    "train_data = create_train_data()"
   ]
  },
  {
   "cell_type": "code",
   "execution_count": null,
   "metadata": {},
   "outputs": [],
   "source": []
  }
 ],
 "metadata": {
  "kernelspec": {
   "display_name": "Python 3",
   "language": "python",
   "name": "python3"
  },
  "language_info": {
   "codemirror_mode": {
    "name": "ipython",
    "version": 3
   },
   "file_extension": ".py",
   "mimetype": "text/x-python",
   "name": "python",
   "nbconvert_exporter": "python",
   "pygments_lexer": "ipython3",
   "version": "3.6.2"
  }
 },
 "nbformat": 4,
 "nbformat_minor": 4
}
