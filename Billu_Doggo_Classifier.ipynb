{
 "cells": [
  {
   "cell_type": "code",
   "execution_count": 2,
   "metadata": {},
   "outputs": [],
   "source": [
    "import tensorflow as tf\n",
    "import cv2                 \n",
    "import numpy as np         \n",
    "import os                  \n",
    "from random import shuffle \n",
    "from tqdm import tqdm\n",
    "\n",
    "TEST_DIR = 'E:/MIC_Projects/Cat_and_Dog_Classifier/Images/test1'\n",
    "TRAIN_DIR = 'E:/MIC_Projects/Cat_and_Dog_Classifier/Images/train'\n",
    "LEARNING_RATE = 1e-3\n",
    "IMAGE_SIZE = 50\n",
    "\n",
    "MODEL_NAME = \"dogsvscats-{}-{}.model\".format(LEARNING_RATE,\"6conv-fire\")\n"
   ]
  },
  {
   "cell_type": "code",
   "execution_count": 3,
   "metadata": {},
   "outputs": [],
   "source": [
    "def label_image(img):\n",
    "    img_name = img.split(\".\")[-3]\n",
    "    if img_name == \"cat\":\n",
    "        return [1,0]\n",
    "    elif img_name == \"dog\":\n",
    "        return [0,1]\n"
   ]
  },
  {
   "cell_type": "code",
   "execution_count": 4,
   "metadata": {},
   "outputs": [],
   "source": [
    "def train_data():\n",
    "    training_data = []\n",
    "    for img in tqdm(os.listdir(path=TRAIN_DIR)):\n",
    "        img_lable = label_image(img)\n",
    "        path_to_img = os.path.join(TRAIN_DIR,img)\n",
    "        img = cv2.resize(cv2.imread(path_to_img,cv2.IMREAD_GRAYSCALE),(IMAGE_SIZE,IMAGE_SIZE))\n",
    "        training_data.append([np.array(img),np.array(img_lable)])\n",
    "        \n",
    "    shuffle(training_data)\n",
    "    np.save(\"training_data_new.npy\",training_data)\n",
    "    return training_data"
   ]
  },
  {
   "cell_type": "code",
   "execution_count": 5,
   "metadata": {},
   "outputs": [],
   "source": [
    "def testing_data():\n",
    "    test_data = []\n",
    "    for img in tqdm(os.listdir(TEST_DIR)):\n",
    "        img_labels = img.split(\".\")[0]\n",
    "        path_to_img = os.path.join(TEST_DIR,img)\n",
    "        img = cv2.resize(cv2.imread(path_to_img,cv2.IMREAD_GRAYSCALE),(IMAGE_SIZE,IMAGE_SIZE))\n",
    "        test_data.append([np.array(img),np.array(img_labels)])\n",
    "        \n",
    "    shuffle(test_data)\n",
    "    np.save(\"test_dataone.npy\",test_data)\n",
    "    return test_data"
   ]
  },
  {
   "cell_type": "code",
   "execution_count": null,
   "metadata": {},
   "outputs": [],
   "source": []
  },
  {
   "cell_type": "code",
   "execution_count": null,
   "metadata": {},
   "outputs": [],
   "source": []
  },
  {
   "cell_type": "code",
   "execution_count": null,
   "metadata": {},
   "outputs": [],
   "source": []
  }
 ],
 "metadata": {
  "kernelspec": {
   "display_name": "Python 3",
   "language": "python",
   "name": "python3"
  },
  "language_info": {
   "codemirror_mode": {
    "name": "ipython",
    "version": 3
   },
   "file_extension": ".py",
   "mimetype": "text/x-python",
   "name": "python",
   "nbconvert_exporter": "python",
   "pygments_lexer": "ipython3",
   "version": "3.6.2"
  }
 },
 "nbformat": 4,
 "nbformat_minor": 4
}
